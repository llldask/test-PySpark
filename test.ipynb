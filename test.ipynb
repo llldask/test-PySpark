{
  "nbformat": 4,
  "nbformat_minor": 0,
  "metadata": {
    "colab": {
      "provenance": []
    },
    "kernelspec": {
      "name": "python3",
      "display_name": "Python 3"
    },
    "language_info": {
      "name": "python"
    }
  },
  "cells": [
    {
      "cell_type": "code",
      "source": [
        "from pyspark.sql import SparkSession"
      ],
      "metadata": {
        "id": "LOEwvQZVaRhQ"
      },
      "execution_count": 2,
      "outputs": []
    },
    {
      "cell_type": "code",
      "source": [
        "spark = SparkSession.builder.master(\"local\").appName(\"test\").getOrCreate()"
      ],
      "metadata": {
        "id": "7oLpBfKEaSB3"
      },
      "execution_count": 3,
      "outputs": []
    },
    {
      "cell_type": "code",
      "source": [
        "products = spark.createDataFrame(\n",
        "    [(1,'orange'), ( 2, 'salmon'), (3,'bread'), (4,'grape')],\n",
        "    ['product_id','product_name']\n",
        ")"
      ],
      "metadata": {
        "id": "h7Sw5IolaWLP"
      },
      "execution_count": 12,
      "outputs": []
    },
    {
      "cell_type": "code",
      "source": [
        "products.show()"
      ],
      "metadata": {
        "colab": {
          "base_uri": "https://localhost:8080/"
        },
        "id": "JvWZ06IYbcPC",
        "outputId": "f3490918-c989-4420-e312-6fc901b79f12"
      },
      "execution_count": 6,
      "outputs": [
        {
          "output_type": "stream",
          "name": "stdout",
          "text": [
            "+----------+------------+\n",
            "|product_id|product_name|\n",
            "+----------+------------+\n",
            "|         1|        milk|\n",
            "|         2|        fish|\n",
            "|         3|       fruit|\n",
            "+----------+------------+\n",
            "\n"
          ]
        }
      ]
    },
    {
      "cell_type": "code",
      "source": [
        "categories = spark.createDataFrame(\n",
        "    [(1,'fruit'), ( 2, 'fish'), (3,'grocery'), (4,'vegetables')],\n",
        "    ['categories_id','categories_name']\n",
        ")"
      ],
      "metadata": {
        "id": "IckVmJ4gb13B"
      },
      "execution_count": 8,
      "outputs": []
    },
    {
      "cell_type": "code",
      "source": [
        "connection= spark.createDataFrame(\n",
        "    [(1,1), ( 2, 2), (3,3), (4,1)],\n",
        "    ['product_id','categories_id']\n",
        ")"
      ],
      "metadata": {
        "id": "fjBoGEBVeeL-"
      },
      "execution_count": 9,
      "outputs": []
    },
    {
      "cell_type": "code",
      "source": [
        "products.join(connection,how=\"inner\",on=\"product_id\").join(categories,how=\"right\",on=\"categories_id\").select(\"product_name\",\"categories_name\").show()"
      ],
      "metadata": {
        "colab": {
          "base_uri": "https://localhost:8080/"
        },
        "id": "NDW7qbA1gOsF",
        "outputId": "7bd56e2e-ac54-4a00-97a8-da442a857145"
      },
      "execution_count": 21,
      "outputs": [
        {
          "output_type": "stream",
          "name": "stdout",
          "text": [
            "+------------+---------------+\n",
            "|product_name|categories_name|\n",
            "+------------+---------------+\n",
            "|       grape|          fruit|\n",
            "|      orange|          fruit|\n",
            "|       bread|        grocery|\n",
            "|      salmon|           fish|\n",
            "|        NULL|     vegetables|\n",
            "+------------+---------------+\n",
            "\n"
          ]
        }
      ]
    }
  ]
}